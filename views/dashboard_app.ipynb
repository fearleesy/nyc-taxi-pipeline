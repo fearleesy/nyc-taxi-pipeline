{
  "cells": [
    {
      "cell_type": "code",
      "execution_count": 55,
      "metadata": {
        "colab": {
          "base_uri": "https://localhost:8080/",
          "height": 671
        },
        "id": "-fEmwTNah7hx",
        "outputId": "1f4d5e4d-39b1-4bf1-fda0-a6e889bfe096"
      },
      "outputs": [
        {
          "data": {
            "application/javascript": "(async (port, path, width, height, cache, element) => {\n    if (!google.colab.kernel.accessAllowed && !cache) {\n      return;\n    }\n    element.appendChild(document.createTextNode(''));\n    const url = await google.colab.kernel.proxyPort(port, {cache});\n    const iframe = document.createElement('iframe');\n    iframe.src = new URL(path, url).toString();\n    iframe.height = height;\n    iframe.width = width;\n    iframe.style.border = 0;\n    iframe.allow = [\n        'accelerometer',\n        'autoplay',\n        'camera',\n        'clipboard-read',\n        'clipboard-write',\n        'gyroscope',\n        'magnetometer',\n        'microphone',\n        'serial',\n        'usb',\n        'xr-spatial-tracking',\n    ].join('; ');\n    element.appendChild(iframe);\n  })(8050, \"/\", \"100%\", 650, false, window.element)",
            "text/plain": [
              "<IPython.core.display.Javascript object>"
            ]
          },
          "metadata": {},
          "output_type": "display_data"
        }
      ],
      "source": [
        "import dash\n",
        "from dash import dcc, html, callback_context\n",
        "from dash.dependencies import Input, Output, State\n",
        "import plotly.graph_objs as go\n",
        "\n",
        "from controllers.train_controller import train_model\n",
        "from controllers.test_controller import test_model\n",
        "from models.src.db_manager import DBManager\n",
        "\n",
        "db = DBManager(\"work.db\")\n",
        "\n",
        "###############################################################################\n",
        "# Класс-обертка\n",
        "###############################################################################\n",
        "class Experiments:\n",
        "    def __init__(self):\n",
        "        self.metrics = {'RMSE': [], 'MAE': []}\n",
        "\n",
        "    def run(self, model_type, warm_start, start, end):\n",
        "        print(model_type, warm_start, start, end)\n",
        "        train_model(\n",
        "            model_type=model_type,\n",
        "            warm_start=warm_start,\n",
        "            db_path=\"work.db\",\n",
        "            start=start,\n",
        "            end=end\n",
        "        )\n",
        "        rmse, mae = test_model(\"latest\", \"test.csv\")\n",
        "        self.metrics['RMSE'].append(rmse)\n",
        "        self.metrics['MAE'].append(mae)\n",
        "        return self.metrics\n",
        "\n",
        "exp = Experiments()\n",
        "\n",
        "###############################################################################\n",
        "# Dash UI\n",
        "###############################################################################\n",
        "app = dash.Dash(__name__)\n",
        "\n",
        "app.layout = html.Div([\n",
        "    html.H1(\"Dash-интерфейс для обучения модели\"),\n",
        "\n",
        "    html.Div([\n",
        "        html.Label(\"Выберите тип модели:\"),\n",
        "        dcc.Dropdown(\n",
        "            id='model-type-dropdown',\n",
        "            options=[\n",
        "                {'label': 'Linear', 'value': 'LR'},\n",
        "                {'label': 'Ridge', 'value': 'Ridge'},\n",
        "                {'label': 'RandomForest', 'value': 'RF'}\n",
        "            ],\n",
        "            value='ridge'\n",
        "        )\n",
        "    ], style={'margin': '10px'}),\n",
        "\n",
        "    html.Div([\n",
        "        html.Label(\"Warm start:\"),\n",
        "        dcc.RadioItems(\n",
        "            id='warm-start-radio',\n",
        "            options=[\n",
        "                {'label': 'Да', 'value': True},\n",
        "                {'label': 'Нет', 'value': False}\n",
        "            ],\n",
        "            value=True,\n",
        "            labelStyle={'display': 'inline-block', 'margin-right': '10px'}\n",
        "        )\n",
        "    ], style={'margin': '10px'}),\n",
        "\n",
        "    html.Div([\n",
        "        html.Label(\"Диапазон индексов (start, end):\"),\n",
        "        dcc.RangeSlider(\n",
        "            id='range-slider',\n",
        "            min=0,\n",
        "            max=db.get_length(),\n",
        "            step=1,\n",
        "            value=[0, min(100, db.get_length())],\n",
        "            allowCross=False,\n",
        "            marks={i: str(i) for i in range(0, db.get_length()+1, max(1, db.get_length()//10))}\n",
        "        )\n",
        "    ], style={'margin': '10px'}),\n",
        "\n",
        "    html.Button(\"Обучить модель\", id='train-button', n_clicks=0),\n",
        "\n",
        "    dcc.Graph(id='metrics-graph')\n",
        "])\n",
        "\n",
        "###############################################################################\n",
        "# Callbacks\n",
        "###############################################################################\n",
        "@app.callback(\n",
        "    Output('metrics-graph', 'figure'),\n",
        "    Input('train-button', 'n_clicks'),\n",
        "    State('model-type-dropdown', 'value'),\n",
        "    State('warm-start-radio', 'value'),\n",
        "    State('range-slider', 'value')\n",
        ")\n",
        "def train_and_update_graph(n_clicks, model_type, warm_start, range_vals):\n",
        "    if n_clicks == 0:\n",
        "        return go.Figure()\n",
        "\n",
        "    start, end = range_vals\n",
        "    metrics = exp.run(model_type, warm_start, start, end)\n",
        "\n",
        "    fig = go.Figure()\n",
        "    fig.add_trace(go.Scatter(y=metrics['RMSE'], mode='lines+markers', name='RMSE'))\n",
        "    fig.add_trace(go.Scatter(y=metrics['MAE'], mode='lines+markers', name='MAE'))\n",
        "    fig.update_layout(title=\"Метрики на тесте\", xaxis_title=\"Итерация\", yaxis_title=\"Значение\")\n",
        "    return fig\n",
        "\n",
        "if __name__ == '__main__':\n",
        "    app.run(debug=True)\n"
      ]
    },
    {
      "cell_type": "markdown",
      "metadata": {},
      "source": [
        "### Пример работы дашборда:\n",
        "- Выбором модели\n",
        "- Дообучение\n",
        "- Выбор среза базы данных, на котором проводим обучение\n",
        "\n",
        "\n",
        "![](example_of_dash.png)"
      ]
    }
  ],
  "metadata": {
    "colab": {
      "provenance": []
    },
    "kernelspec": {
      "display_name": "Python 3",
      "name": "python3"
    },
    "language_info": {
      "name": "python"
    }
  },
  "nbformat": 4,
  "nbformat_minor": 0
}
